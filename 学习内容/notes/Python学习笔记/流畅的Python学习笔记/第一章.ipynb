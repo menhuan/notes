{
 "metadata": {
  "language_info": {
   "codemirror_mode": {
    "name": "ipython",
    "version": 3
   },
   "file_extension": ".py",
   "mimetype": "text/x-python",
   "name": "python",
   "nbconvert_exporter": "python",
   "pygments_lexer": "ipython3",
   "version": "3.7.6-final"
  },
  "orig_nbformat": 2,
  "kernelspec": {
   "name": "python37664bit4f7dc90d451549e0a85fa3167d3f53c9",
   "display_name": "Python 3.7.6 64-bit"
  }
 },
 "nbformat": 4,
 "nbformat_minor": 2,
 "cells": [
  {
   "cell_type": "code",
   "execution_count": 22,
   "metadata": {
    "tags": []
   },
   "outputs": [
    {
     "output_type": "stream",
     "name": "stdout",
     "text": "cat\n['cat', 'dog', 'horse', 'ox']\n"
    }
   ],
   "source": [
    "\n",
    "\n",
    "class Animal:\n",
    "    \n",
    "\n",
    "    def __init__(self):\n",
    "        self.animal_typs = ['cat','dog','horse','ox','sheep','deer']\n",
    "\n",
    "    def __len__(self):\n",
    "        return len(self.animal_typs)\n",
    "\n",
    "    def __getitem__(self, position):\n",
    "        return self.animal_typs[position]\n",
    "\n",
    "\n",
    "animal = Animal()\n",
    "len(animal)\n",
    "\n",
    "# 重写了__getitem__ 可以用来索引获取\n",
    "print(animal[0])\n",
    "print(animal[:-2])\n"
   ]
  },
  {
   "cell_type": "code",
   "execution_count": 25,
   "metadata": {
    "tags": []
   },
   "outputs": [
    {
     "output_type": "stream",
     "name": "stdout",
     "text": "True\nFalse\n"
    },
    {
     "output_type": "execute_result",
     "data": {
      "text/plain": "Vector(2, 12)"
     },
     "metadata": {},
     "execution_count": 25
    }
   ],
   "source": [
    "class Vector:\n",
    "\n",
    "    def __init__(self, x=0, y=0):\n",
    "        self.x = x\n",
    "        self.y = y\n",
    "    def __add__(self,other):\n",
    "        x = self.x + other.x\n",
    "        y = self.y + other.y\n",
    "        return Vector(x,y)\n",
    "    # 如果没有重写 repr 函数 则只会输出类的类型。可以注释掉这段语句尝试下\n",
    "    def __repr__(self):\n",
    "        return 'Vector(%r, %r)' % (self.x, self.y)\n",
    "\n",
    "    def __bool__(self):\n",
    "        return bool(self.x or self.y)\n",
    "\n",
    "    def __mul__(self,other):\n",
    "        x = self.x * other.x\n",
    "        y = self.y * other.y\n",
    "        return Vector(x,y)\n",
    "\n",
    "v1 = Vector(1,3)\n",
    "v2 = Vector(2,4)\n",
    "v1+v2\n",
    "v3 = Vector(None,None)\n",
    "print(bool(v1))\n",
    "print(bool(v3))\n",
    "v1*v2\n",
    "\n"
   ]
  },
  {
   "cell_type": "code",
   "execution_count": null,
   "metadata": {},
   "outputs": [],
   "source": []
  }
 ]
}