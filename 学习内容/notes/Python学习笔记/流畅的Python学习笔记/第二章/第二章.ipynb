{
 "metadata": {
  "language_info": {
   "codemirror_mode": {
    "name": "ipython",
    "version": 3
   },
   "file_extension": ".py",
   "mimetype": "text/x-python",
   "name": "python",
   "nbconvert_exporter": "python",
   "pygments_lexer": "ipython3",
   "version": "3.7.6-final"
  },
  "orig_nbformat": 2,
  "kernelspec": {
   "name": "python37664bit4f7dc90d451549e0a85fa3167d3f53c9",
   "display_name": "Python 3.7.6 64-bit"
  }
 },
 "nbformat": 4,
 "nbformat_minor": 2,
 "cells": [
  {
   "cell_type": "code",
   "execution_count": 2,
   "metadata": {
    "tags": []
   },
   "outputs": [
    {
     "output_type": "stream",
     "name": "stdout",
     "text": "30 -10 200\n-10 200\n"
    }
   ],
   "source": [
    "\n",
    "\n",
    "def  calculate(a,b):\n",
    "    return a+b,a-b,a*b\n",
    "\n",
    "add,subtraction,mul =calculate(10,20)\n",
    "print(add,subtraction,mul)\n",
    "_,subtraction,mul =calculate(10,20)\n",
    "print(subtraction,mul)"
   ]
  },
  {
   "cell_type": "code",
   "execution_count": 3,
   "metadata": {
    "tags": []
   },
   "outputs": [
    {
     "output_type": "stream",
     "name": "stdout",
     "text": "BRA/CE342567\nUSA/31195855\n"
    }
   ],
   "source": [
    "lax_coordinates = (40,50) \n",
    "traveler_ids =[('USA','31195855'),('BRA','CE342567')]\n",
    "for passport in sorted(traveler_ids):\n",
    "    print('%s/%s'%passport)"
   ]
  },
  {
   "cell_type": "code",
   "execution_count": 5,
   "metadata": {
    "tags": []
   },
   "outputs": [
    {
     "output_type": "stream",
     "name": "stdout",
     "text": "33.9425 -118.408056\n-118.408056\n"
    }
   ],
   "source": [
    "lax_coordinates = (33.9425,-118.408056)\n",
    "x,y = lax_coordinates\n",
    "print(x,y)\n",
    "_,y = lax_coordinates\n",
    "print(y)"
   ]
  },
  {
   "cell_type": "code",
   "execution_count": 10,
   "metadata": {
    "tags": []
   },
   "outputs": [
    {
     "output_type": "stream",
     "name": "stdout",
     "text": "0 1 2 3 4\n0\n1 2 3 4\n5 6\n0 1\n=====\n\n"
    }
   ],
   "source": [
    "a,b,*rest =range(5)\n",
    "print(a,b,*rest)\n",
    "a,*rest,b,c= range(7)\n",
    "print(a)\n",
    "print(*rest)\n",
    "print(b,c)\n",
    "a,b,*rest=range(2)\n",
    "print(a,b)\n",
    "print(\"=====\")\n",
    "print(*rest)"
   ]
  },
  {
   "cell_type": "code",
   "execution_count": 18,
   "metadata": {
    "tags": []
   },
   "outputs": [
    {
     "output_type": "stream",
     "name": "stdout",
     "text": "City(name='Tokyo', country='JP', population=36.933, coordinates=(36.689722, 239.691667))\n(36.689722, 239.691667)\n('name', 'country', 'population', 'coordinates')\nOrderedDict([('name', 'Tokyo'), ('country', 'JP'), ('population', 36.933), ('coordinates', (36.689722, 239.691667))])\nCity(name='Delhi NCR', country='IN', population=21.935, coordinates=(28.613889, 77.208889))\n"
    }
   ],
   "source": [
    "from collections import namedtuple\n",
    "#创建好一个类 \n",
    "City = namedtuple('City','name country population coordinates')\n",
    "tokyo = City('Tokyo','JP',36.933,(36.689722,239.691667))\n",
    "print(tokyo)\n",
    "print(tokyo.coordinates)\n",
    "print(City._fields)\n",
    "print(tokyo._asdict())\n",
    "delhi_data=('Delhi NCR','IN',21.935,(28.613889,77.208889))\n",
    "delhi = City._make(delhi_data)\n",
    "print(delhi)\n"
   ]
  },
  {
   "cell_type": "code",
   "execution_count": null,
   "metadata": {},
   "outputs": [],
   "source": []
  }
 ]
}